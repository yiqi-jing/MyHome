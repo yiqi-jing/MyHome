{
 "cells": [
  {
   "cell_type": "code",
   "execution_count": 1,
   "id": "08c62101",
   "metadata": {},
   "outputs": [],
   "source": [
    "import cv2\n",
    "import matplotlib.pyplot as plt"
   ]
  },
  {
   "cell_type": "code",
   "execution_count": null,
   "id": "e61d543a",
   "metadata": {},
   "outputs": [],
   "source": [
    "img_path = r\"F:\\Python\\Data\\quality_restoration_20250709003543265.jpg\"\n",
    "img = cv2.imread(img_path, 1)\n",
    "plt.imshow(img)"
   ]
  }
 ],
 "metadata": {
  "kernelspec": {
   "display_name": "Python 3",
   "language": "python",
   "name": "python3"
  },
  "language_info": {
   "codemirror_mode": {
    "name": "ipython",
    "version": 3
   },
   "file_extension": ".py",
   "mimetype": "text/x-python",
   "name": "python",
   "nbconvert_exporter": "python",
   "pygments_lexer": "ipython3",
   "version": "3.8.10"
  }
 },
 "nbformat": 4,
 "nbformat_minor": 5
}
