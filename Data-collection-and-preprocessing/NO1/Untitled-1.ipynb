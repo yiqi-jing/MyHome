{
 "cells": [
  {
   "cell_type": "code",
   "execution_count": null,
   "id": "f066a045",
   "metadata": {},
   "outputs": [],
   "source": [
    "# 导入依赖包\n",
    "import requests as req\n",
    "import re\n",
    "import json"
   ]
  },
  {
   "cell_type": "code",
   "execution_count": null,
   "id": "f3953e00",
   "metadata": {},
   "outputs": [],
   "source": [
    "# 设置伪装信息\n",
    "heads = {\n",
    "    'user-agent' : 'Mozilla/5.0 (Windows NT 10.0; Win64; x64) AppleWebKit/537.36 (KHTML, like Gecko) Chrome/133.0.0.0 Safari/537.36'\n",
    "}\n",
    "\n",
    "# 发送请求\n",
    "res = req.get('https://www.baidu.com', headers=heads)\n",
    "\n",
    "# 设置中文编码\n",
    "res.encoding = 'utf-8'"
   ]
  },
  {
   "cell_type": "code",
   "execution_count": null,
   "id": "2913546f",
   "metadata": {},
   "outputs": [],
   "source": [
    "# 打印信息\n",
    "startIndex = res.text.index('<textarea id=\"hotsearch_data\" style=\"display:none;\">')\n",
    "endIndex = res.text.index('</textarea></div></div>')\n",
    "print(startIndex)\n",
    "print(endIndex)"
   ]
  },
  {
   "cell_type": "code",
   "execution_count": null,
   "id": "db39f817",
   "metadata": {},
   "outputs": [],
   "source": [
    "allNewsStr = res.text[startIndex:endIndex].replace('<textarea id=\"hotsearch_data\" style=\"display:none;\">', '')\n",
    "print(allNewsStr)\n",
    "# 把字符串转成字典格式\n",
    "news = json.loads(allNewsStr)\n",
    "print(news['hotsearch'])\n"
   ]
  },
  {
   "cell_type": "code",
   "execution_count": null,
   "id": "6bfd31c3",
   "metadata": {},
   "outputs": [],
   "source": [
    "\n",
    "# 开始解析数据 <span class=\"title-content-title\">00后女钢筋工每天工地干10小时赚320</span>\n",
    "# <span class=\"title-content-title\">(.*)</span>\n",
    "# 开始解析全部数据\n",
    "result = re.findall('<span class=\"title-content-title\">(.*?)</span>', res.text)\n",
    "print(result)"
   ]
  },
  {
   "cell_type": "code",
   "execution_count": null,
   "id": "ac1e3441",
   "metadata": {},
   "outputs": [],
   "source": [
    "data = news['hotsearch']\n",
    "for news in data:\n",
    "    print(news['card_title'])\n",
    "\n",
    "# 将数据写入文件\n",
    "with open('news.txt', 'a+', encoding='utf-8') as f:\n",
    "    for news in data:\n",
    "        f.write(news['card_title'] + '\\n')\n"
   ]
  },
  {
   "cell_type": "code",
   "execution_count": null,
   "id": "0fa94194",
   "metadata": {},
   "outputs": [],
   "source": [
    "# <textarea id=\"hotsearch_data\" style=\"display:none;\">(.*)</textarea>\n",
    "# result2 = re.findall('<script type=\"application/json\" id=\"placeholder-data\" data-for=\"result-data\">(.*)</script>', res.text)\n",
    "# print(result2)"
   ]
  },
  {
   "cell_type": "code",
   "execution_count": null,
   "id": "2eda5578",
   "metadata": {},
   "outputs": [],
   "source": [
    "# data = [{'name' : 'zhangsan'},{'name' : 'lisi'}]\n",
    "# for key in data:\n",
    "#     print(key['name'])"
   ]
  }
 ],
 "metadata": {
  "kernelspec": {
   "display_name": "Python 3",
   "language": "python",
   "name": "python3"
  },
  "language_info": {
   "codemirror_mode": {
    "name": "ipython",
    "version": 3
   },
   "file_extension": ".py",
   "mimetype": "text/x-python",
   "name": "python",
   "nbconvert_exporter": "python",
   "pygments_lexer": "ipython3",
   "version": "3.8.10"
  }
 },
 "nbformat": 4,
 "nbformat_minor": 5
}
