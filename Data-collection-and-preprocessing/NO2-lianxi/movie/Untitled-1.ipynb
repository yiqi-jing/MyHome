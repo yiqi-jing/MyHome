{
 "cells": [
  {
   "cell_type": "code",
   "execution_count": 48,
   "id": "2fb36029",
   "metadata": {},
   "outputs": [],
   "source": [
    "# 导入依赖包\n",
    "import requests as req\n",
    "import json\n",
    "import re\n",
    "from bs4 import BeautifulSoup\n",
    "from lxml import etree"
   ]
  },
  {
   "cell_type": "code",
   "execution_count": 49,
   "id": "cd2037d9",
   "metadata": {},
   "outputs": [],
   "source": [
    "# 发送请求\n",
    "\n",
    "# 伪装\n",
    "heads ={\n",
    "    'user-agent' : 'Mozilla/5.0 (Windows NT 10.0; Win64; x64) AppleWebKit/537.36 (KHTML, like Gecko) Chrome/141.0.0.0 Safari/537.36 Edg/141.0.0.0',\n",
    "    'Cookie' : 'll=\"118302\"; bid=GmUemmMKVUA; _pk_id.100001.4cf6=4ebba9ce5ff2da0a.1757987431.; __utmz=30149280.1757987432.1.1.utmcsr=baidu|utmccn=(organic)|utmcmd=organic; __utmz=223695111.1757987432.1.1.utmcsr=baidu|utmccn=(organic)|utmcmd=organic; __yadk_uid=zUwiroJynzpJtsayAHZ1SNSr7ILPBCt2; _vwo_uuid_v2=D8D6011DB1CFB180005FA9A7EB6C1E29D|9f8059e35747060f1b2beb84cb0039e7; _pk_ref.100001.4cf6=%5B%22%22%2C%22%22%2C1758067647%2C%22https%3A%2F%2Fwww.baidu.com%2Flink%3Furl%3DN369YYCCjQz7Haokiak4MK6ozhTmmmN2zvL3axLYudLSI59upGbF5amcLwGdrjYD%26wd%3D%26eqid%3D84073e5b02607de20000000668c8c262%22%5D; ap_v=0,6.0; __utma=30149280.1858202652.1757987432.1758031158.1758067662.3; __utmc=30149280; __utma=223695111.1249666086.1757987432.1758031158.1758067662.3; __utmc=223695111'\n",
    "}\n",
    "\n",
    "# 请求\n",
    "res = req.get('https://movie.douban.com/', headers = heads)\n",
    "\n",
    "# 中文编码UTF-8\n",
    "res.encoding = 'utf-8'\n",
    "\n",
    "# # 打印信息\n",
    "# print(res.text)"
   ]
  },
  {
   "cell_type": "code",
   "execution_count": 56,
   "id": "f6d1c589",
   "metadata": {},
   "outputs": [
    {
     "name": "stdout",
     "output_type": "stream",
     "text": [
      "电影1: 名称: 窗外是蓝星, 评分: 8.6\n",
      "电影2: 名称: 轻于鸿毛, 评分: 6.4\n",
      "电影3: 名称: 捕风追影, 评分: 8.2\n",
      "电影4: 名称: 关于约会的一..., 评分: 8.1\n",
      "电影5: 名称: 戏台, 评分: 8.0\n",
      "电影6: 名称: 逃离抢钱镇, 评分: 7.4\n",
      "电影7: 名称: 东极岛, 评分: 暂无评分\n",
      "电影8: 名称: 死神来了：血..., 评分: 6.9\n",
      "电影9: 名称: 蜗牛回忆录, 评分: 8.4\n",
      "电影10: 名称: 浪浪山小妖怪..., 评分: 8.5\n",
      "电影11: 名称: 爱的暂停键, 评分: 7.6\n",
      "电影12: 名称: 伊甸, 评分: 6.9\n",
      "电影13: 名称: 小鹿斑比：清..., 评分: 4.2\n",
      "电影14: 名称: 奇遇, 评分: 7.2\n",
      "电影15: 名称: 坏蛋联盟2, 评分: 7.6\n",
      "电影16: 名称: 南京照相馆, 评分: 8.7\n",
      "电影17: 名称: 有朵云像你, 评分: 6.4\n",
      "电影18: 名称: 7天, 评分: 6.0\n",
      "电影19: 名称: 家庭简史, 评分: 6.1\n",
      "电影20: 名称: 地球脉动：万..., 评分: 暂无评分\n",
      "电影21: 名称: 营救飞虎, 评分: 暂无评分\n",
      "电影22: 名称: 青蛇, 评分: 8.6\n",
      "电影23: 名称: 脱缰者也, 评分: 5.7\n",
      "电影24: 名称: 洛桑的家事, 评分: 暂无评分\n",
      "电影25: 名称: F1：狂飙飞..., 评分: 8.7\n",
      "电影26: 名称: 红丝绸, 评分: 暂无评分\n",
      "电影27: 名称: 生还, 评分: 暂无评分\n",
      "电影28: 名称: 长安的荔枝, 评分: 7.6\n",
      "电影29: 名称: 赎梦, 评分: 5.9\n",
      "电影30: 名称: 午夜怪谈2, 评分: 暂无评分\n",
      "电影31: 名称: 罗小黑战记2..., 评分: 8.7\n",
      "电影32: 名称: 坪石先生, 评分: 暂无评分\n",
      "电影33: 名称: 血色牢笼, 评分: 暂无评分\n",
      "电影34: 名称: 我们终将要和..., 评分: 暂无评分\n",
      "电影35: 名称: 熊孩子·探险..., 评分: 暂无评分\n",
      "电影36: 名称: 聊斋：兰若寺..., 评分: 6.7\n",
      "电影37: 名称: 兔儿谣, 评分: 暂无评分\n",
      "电影38: 名称: 午夜凶镜, 评分: 暂无评分\n",
      "电影39: 名称: 喜羊羊与灰太..., 评分: 6.6\n",
      "电影40: 名称: 象州风云, 评分: 暂无评分\n",
      "电影41: 名称: 长空之王, 评分: 6.5\n",
      "电影42: 名称: 暂无名称, 评分: 暂无评分\n",
      "电影43: 名称: 暂无名称, 评分: 暂无评分\n",
      "电影44: 名称: 暂无名称, 评分: 暂无评分\n",
      "电影45: 名称: 暂无名称, 评分: 暂无评分\n"
     ]
    }
   ],
   "source": [
    "# 使用xpath解析数据\n",
    "# 把html文本转成一棵树\n",
    "htree = etree.HTML(res.text)\n",
    "# //*[@id=\"screening\"]/div[2]/ul/li[1]/ul/li[2]/a\n",
    "# //*[@id=\"screening\"]/div[2]/ul/li[2]/ul/li[2]/a\n",
    "# //*[@id=\"screening\"]/div[2]/ul/li[3]/ul/li[2]/a\n",
    "# //*[@id=\"screening\"]/div[2]/ul/li[4]/ul/li[2]/a\n",
    "# //*[@id=\"screening\"]/div[2]/ul/li[5]/ul/li[2]/a\n",
    "# //*[@id=\"screening\"]/div[2]/ul/li[6]/ul/li[2]/a\n",
    "# //*[@id=\"screening\"]/div[2]/ul/li[7]/ul/li[2]/a\n",
    "# //*[@id=\"screening\"]/div[2]/ul/li[8]/ul/li[2]/a\n",
    "# //*[@id=\"screening\"]/div[2]/ul/li[9]/ul/li[2]/a\n",
    "# //*[@id=\"screening\"]/div[2]/ul/li[10]/ul/li[2]/a\n",
    "# //*[@id=\"screening\"]/div[2]/ul/li[11]/ul/li[2]/a\n",
    "# //*[@id=\"screening\"]/div[2]/ul/li[12]/ul/li[2]/a\n",
    "# //*[@id=\"screening\"]/div[2]/ul/li[13]/ul/li[2]/a\n",
    "# //*[@id=\"screening\"]/div[2]/ul/li[14]/ul/li[2]/a\n",
    "# //*[@id=\"screening\"]/div[2]/ul/li[15]/ul/li[2]/a\n",
    "# //*[@id=\"screening\"]/div[2]/ul/li[16]/ul/li[2]/a\n",
    "# //*[@id=\"screening\"]/div[2]/ul/li\n",
    "movie_items = htree.xpath('//*[@id=\"screening\"]/div[2]/ul/li')\n",
    "# 使用xpath表达式解析数据\n",
    "# 遍历每个电影条目 \n",
    "for index, item in enumerate(movie_items, start=1): \n",
    "    # 在当前的item中，使用相对路径获取电影名称 \n",
    "    # 注意：这里使用相对路径，以当前item为起点 \n",
    "    name_list = item.xpath('.//ul/li[2]/a/text()') \n",
    "    # 因为text()返回的是列表，我们需要检查是否有数据 \n",
    "    if name_list: \n",
    "        movie_name = name_list[0].strip() \n",
    "    else: \n",
    "        movie_name = \"暂无名称\" \n",
    " \n",
    "    # 获取评分 \n",
    "    rating_list = item.xpath('.//ul/li[3]/span[2]/text()') \n",
    "    if rating_list: \n",
    "        movie_rating = rating_list[0].strip() \n",
    "    else: \n",
    "        movie_rating = \"暂无评分\" \n",
    " \n",
    "    # 打印结果，可以按照需要调整格式 \n",
    "    print(f\"电影{index}: 名称: {movie_name}, 评分: {movie_rating}\") "
   ]
  },
  {
   "cell_type": "code",
   "execution_count": null,
   "id": "5a1abeb0",
   "metadata": {},
   "outputs": [],
   "source": [
    "nihao "
   ]
  },
  {
   "cell_type": "code",
   "execution_count": null,
   "id": "533bd689",
   "metadata": {},
   "outputs": [],
   "source": [
    "#解析电影名称\n",
    "#<li class=\"ui-slide-item\"  data-title=\"(.*?)\" data-release=\n",
    "# alt=\"(.*?)\" rel=\"nofollow\"/>\n",
    "result1 = re.findall('alt=\"(.*?)\" rel=\"nofollow\"/>', res.text)\n",
    "print(result1)"
   ]
  },
  {
   "cell_type": "code",
   "execution_count": null,
   "id": "d9bf66fc",
   "metadata": {},
   "outputs": [],
   "source": [
    "#解析评分\n",
    "#</span><span class=\"subject-rate\">(.*?)</span>\n",
    "# \">(.*?)</span>\n",
    "#  data-rate=\"(.*?)\" \n",
    "result2 = re.findall(' data-rate=\"(.*?)\" ', res.text)\n",
    "print(result2)"
   ]
  },
  {
   "cell_type": "code",
   "execution_count": null,
   "id": "71bd5286",
   "metadata": {},
   "outputs": [],
   "source": [
    "# 打印信息\n",
    "startIndex = res.text.index('<ul class=\"ui-slide-content\" data-slide-index=\"1\" data-index-max=\"9\">')\n",
    "endIndex = res.text.index(' <li class=\"ui-slide-item\">')\n",
    "print(startIndex)\n",
    "print(endIndex)"
   ]
  },
  {
   "cell_type": "code",
   "execution_count": null,
   "id": "7a336b67",
   "metadata": {},
   "outputs": [],
   "source": [
    "allNewsStr = res.text[startIndex:endIndex].replace('<ul class=\"ui-slide-content\" data-slide-index=\"1\" data-index-max=\"9\">', '')\n",
    "print(allNewsStr)"
   ]
  },
  {
   "cell_type": "code",
   "execution_count": null,
   "id": "37c23014",
   "metadata": {},
   "outputs": [],
   "source": [
    "allNewsStr = res.text[startIndex:endIndex].replace('<ul class=\"ui-slide-content\" data-slide-index=\"1\" data-index-max=\"9\">', '')\n",
    "print(allNewsStr)\n",
    "# 把字符串转成字典格式\n",
    "news = json.loads(allNewsStr)\n",
    "print(news['hotsearch'])"
   ]
  },
  {
   "cell_type": "code",
   "execution_count": null,
   "id": "a58ef911",
   "metadata": {},
   "outputs": [],
   "source": [
    "# 解析HTML\n",
    "soup = BeautifulSoup(allNewsStr, 'html.parser')\n",
    "\n",
    "# 查找所有电影条目（class包含\"ui-slide-item\"的<li>标签）\n",
    "movie_items = soup.find_all('li', class_=lambda x: x and 'ui-slide-item' in x)\n",
    "\n",
    "# 存储结果的列表\n",
    "movies = []\n",
    "\n",
    "# 循环处理每个电影条目\n",
    "for item in movie_items:\n",
    "    # 提取电影名称 - 方式1：从标题元素获取\n",
    "    title_tag = item.find('li', class_='title')\n",
    "    if title_tag:\n",
    "        movie_name = title_tag.a.text.strip()\n",
    "    else:\n",
    "        # 方式2：从data-title属性获取（备用方式）\n",
    "        movie_name = item.get('data-title', '未知电影')\n",
    "    \n",
    "    # 提取评分\n",
    "    rating = soup.find('span', class_='subject-rate').text.strip()\n",
    "    \n",
    "    # 添加到结果列表\n",
    "    movies.append({\n",
    "        'name': movie_name,\n",
    "        'rating': rating\n",
    "    })\n",
    "\n",
    "# 打印结果\n",
    "for i, movie in enumerate(movies, 1):\n",
    "    print(f\"{i}. 电影名称: {movie['name']}, 评分: {movie['rating']}\")"
   ]
  },
  {
   "cell_type": "code",
   "execution_count": null,
   "id": "3142ed90",
   "metadata": {},
   "outputs": [],
   "source": [
    "# # 提取电影名称\n",
    "# movie_name = soup.find('li', class_='title').a.text.strip()  # 方式1：从标题元素获取\n",
    "# # 提取评分\n",
    "# rating = soup.find('span', class_='subject-rate').text.strip()"
   ]
  },
  {
   "cell_type": "code",
   "execution_count": null,
   "id": "44252888",
   "metadata": {},
   "outputs": [],
   "source": [
    "# print(f\"电影名称: {movie_name}\")\n",
    "# print(f\"豆瓣评分: {rating}\")"
   ]
  },
  {
   "cell_type": "code",
   "execution_count": null,
   "id": "b2217f08",
   "metadata": {},
   "outputs": [],
   "source": [
    "# 将数据写入move.txt文件\n",
    "with open('movie.txt', 'w', encoding='utf-8') as f:\n",
    "    for movie in movies:\n",
    "        f.write(f\"电影名称: {movie['name']}, 评分: {movie['rating']}\\n\") "
   ]
  }
 ],
 "metadata": {
  "kernelspec": {
   "display_name": "Python 3",
   "language": "python",
   "name": "python3"
  },
  "language_info": {
   "codemirror_mode": {
    "name": "ipython",
    "version": 3
   },
   "file_extension": ".py",
   "mimetype": "text/x-python",
   "name": "python",
   "nbconvert_exporter": "python",
   "pygments_lexer": "ipython3",
   "version": "3.8.10"
  }
 },
 "nbformat": 4,
 "nbformat_minor": 5
}
