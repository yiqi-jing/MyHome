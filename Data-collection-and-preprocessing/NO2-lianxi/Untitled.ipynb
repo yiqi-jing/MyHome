{
 "cells": [
  {
   "cell_type": "code",
   "execution_count": 1,
   "id": "2fb36029",
   "metadata": {},
   "outputs": [],
   "source": [
    "# 导入依赖包\n",
    "import requests as req\n",
    "import json\n",
    "import re"
   ]
  },
  {
   "cell_type": "code",
   "execution_count": 10,
   "id": "cd2037d9",
   "metadata": {},
   "outputs": [],
   "source": [
    "# 发送请求\n",
    "\n",
    "# 伪装\n",
    "heads ={\n",
    "    'user-agent' : 'Mozilla/5.0 (Windows NT 10.0; Win64; x64) AppleWebKit/537.36 (KHTML, like Gecko) Chrome/141.0.0.0 Safari/537.36 Edg/141.0.0.0',\n",
    "    'Cookie' : 'll=\"118302\"; bid=GmUemmMKVUA; _pk_ref.100001.4cf6=%5B%22%22%2C%22%22%2C1757987431%2C%22https%3A%2F%2Fwww.baidu.com%2Flink%3Furl%3DN369YYCCjQz7Haokiak4MK6ozhTmmmN2zvL3axLYudLSI59upGbF5amcLwGdrjYD%26wd%3D%26eqid%3D84073e5b02607de20000000668c8c262%22%5D; _pk_id.100001.4cf6=4ebba9ce5ff2da0a.1757987431.; _pk_ses.100001.4cf6=1; ap_v=0,6.0; __utma=30149280.1858202652.1757987432.1757987432.1757987432.1; __utmb=30149280.0.10.1757987432; __utmc=30149280; __utmz=30149280.1757987432.1.1.utmcsr=baidu|utmccn=(organic)|utmcmd=organic; __utma=223695111.1249666086.1757987432.1757987432.1757987432.1; __utmb=223695111.0.10.1757987432; __utmc=223695111; __utmz=223695111.1757987432.1.1.utmcsr=baidu|utmccn=(organic)|utmcmd=organic; __yadk_uid=zUwiroJynzpJtsayAHZ1SNSr7ILPBCt2; _vwo_uuid_v2=D8D6011DB1CFB180005FA9A7EB6C1E29D|9f8059e35747060f1b2beb84cb0039e7'\n",
    "}\n",
    "\n",
    "# 请求\n",
    "res = req.get('https://movie.douban.com/', headers = heads)\n",
    "\n",
    "# 中文编码UTF-8\n",
    "res.encoding = 'utf-8'"
   ]
  },
  {
   "cell_type": "code",
   "execution_count": null,
   "id": "71bd5286",
   "metadata": {},
   "outputs": [],
   "source": [
    "# 打印信息\n",
    "print(res.text)"
   ]
  },
  {
   "cell_type": "code",
   "execution_count": null,
   "id": "7a336b67",
   "metadata": {},
   "outputs": [],
   "source": [
    "# 解析数据\n",
    "\n"
   ]
  }
 ],
 "metadata": {
  "kernelspec": {
   "display_name": "Python 3",
   "language": "python",
   "name": "python3"
  },
  "language_info": {
   "codemirror_mode": {
    "name": "ipython",
    "version": 3
   },
   "file_extension": ".py",
   "mimetype": "text/x-python",
   "name": "python",
   "nbconvert_exporter": "python",
   "pygments_lexer": "ipython3",
   "version": "3.8.10"
  }
 },
 "nbformat": 4,
 "nbformat_minor": 5
}
